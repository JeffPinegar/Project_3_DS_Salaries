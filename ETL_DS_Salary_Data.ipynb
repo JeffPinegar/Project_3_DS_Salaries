{
 "cells": [
  {
   "attachments": {},
   "cell_type": "markdown",
   "metadata": {},
   "source": [
    "<h1>Project 3: Salaries in Data Science<br></h1>\n",
    "Due Date: Jan. 30, 2022 <br>\n",
    "\n",
    "#### Team Members:<br>\n",
    ">-  Ariel Jones, <br>\n",
    ">-  Joe Liang, <br>\n",
    ">-  Kristina Mulholland, <br>\n",
    ">-  Jeff Pinegar<br>\n",
    "\n",
    "\n",
    "\n",
    "This notebook is used to create the html table for the webpage and to load the data into prostgres database.\n",
    "<br><br>\n",
    "\n",
    "---\n",
    "### Extract and Transform Data Scienc Salary"
   ]
  },
  {
   "cell_type": "code",
   "execution_count": 6,
   "metadata": {},
   "outputs": [],
   "source": [
    "# Import needed libraries\n",
    "import pandas as pd     # if you get an error message module not found you need to add this to your environment.\n",
    "import os               # this tells your project about the OS of your machine.  This will let you create machine independent notebooks\n",
    "import numpy as np      # loads in the math tools\n",
    "from datetime import datetime\n",
    "from sqlalchemy import create_engine\n",
    "import psycopg2\n",
    "\n",
    "import os"
   ]
  },
  {
   "attachments": {},
   "cell_type": "markdown",
   "metadata": {},
   "source": [
    "---\n",
    "### Extract"
   ]
  },
  {
   "cell_type": "code",
   "execution_count": 3,
   "metadata": {},
   "outputs": [
    {
     "data": {
      "text/html": [
       "<div>\n",
       "<style scoped>\n",
       "    .dataframe tbody tr th:only-of-type {\n",
       "        vertical-align: middle;\n",
       "    }\n",
       "\n",
       "    .dataframe tbody tr th {\n",
       "        vertical-align: top;\n",
       "    }\n",
       "\n",
       "    .dataframe thead th {\n",
       "        text-align: right;\n",
       "    }\n",
       "</style>\n",
       "<table border=\"1\" class=\"dataframe\">\n",
       "  <thead>\n",
       "    <tr style=\"text-align: right;\">\n",
       "      <th></th>\n",
       "      <th>id</th>\n",
       "      <th>work_year</th>\n",
       "      <th>experience_level</th>\n",
       "      <th>employment_type</th>\n",
       "      <th>job_title</th>\n",
       "      <th>salary</th>\n",
       "      <th>salary_currency</th>\n",
       "      <th>salary_in_usd</th>\n",
       "      <th>employee_residence</th>\n",
       "      <th>remote_ratio</th>\n",
       "      <th>...</th>\n",
       "      <th>company_location_3Char</th>\n",
       "      <th>comp_size</th>\n",
       "      <th>Experience</th>\n",
       "      <th>Emply_Type</th>\n",
       "      <th>Country_Company</th>\n",
       "      <th>Country_Emply</th>\n",
       "      <th>Company_size</th>\n",
       "      <th>Category</th>\n",
       "      <th>Remote_Work</th>\n",
       "      <th>Machine_learning</th>\n",
       "    </tr>\n",
       "  </thead>\n",
       "  <tbody>\n",
       "    <tr>\n",
       "      <th>0</th>\n",
       "      <td>0</td>\n",
       "      <td>2020</td>\n",
       "      <td>MI</td>\n",
       "      <td>FT</td>\n",
       "      <td>Data Scientist</td>\n",
       "      <td>70000</td>\n",
       "      <td>EUR</td>\n",
       "      <td>79833</td>\n",
       "      <td>DE</td>\n",
       "      <td>0</td>\n",
       "      <td>...</td>\n",
       "      <td>DEU</td>\n",
       "      <td>L</td>\n",
       "      <td>Mid-level Intermediate</td>\n",
       "      <td>Full-time</td>\n",
       "      <td>Germany</td>\n",
       "      <td>Germany</td>\n",
       "      <td>Large_Greater_than_250_Emp</td>\n",
       "      <td>Scientist</td>\n",
       "      <td>0-20%</td>\n",
       "      <td>Not ML</td>\n",
       "    </tr>\n",
       "    <tr>\n",
       "      <th>1</th>\n",
       "      <td>1</td>\n",
       "      <td>2020</td>\n",
       "      <td>SE</td>\n",
       "      <td>FT</td>\n",
       "      <td>Machine Learning Scientist</td>\n",
       "      <td>260000</td>\n",
       "      <td>USD</td>\n",
       "      <td>260000</td>\n",
       "      <td>JP</td>\n",
       "      <td>0</td>\n",
       "      <td>...</td>\n",
       "      <td>JPN</td>\n",
       "      <td>S</td>\n",
       "      <td>Senior-level Expert</td>\n",
       "      <td>Full-time</td>\n",
       "      <td>Japan</td>\n",
       "      <td>Japan</td>\n",
       "      <td>Small_Less_than_50_Emp</td>\n",
       "      <td>Scientist</td>\n",
       "      <td>0-20%</td>\n",
       "      <td>ML Professional</td>\n",
       "    </tr>\n",
       "  </tbody>\n",
       "</table>\n",
       "<p>2 rows × 21 columns</p>\n",
       "</div>"
      ],
      "text/plain": [
       "   id  work_year experience_level employment_type                   job_title  \\\n",
       "0   0       2020               MI              FT              Data Scientist   \n",
       "1   1       2020               SE              FT  Machine Learning Scientist   \n",
       "\n",
       "   salary salary_currency  salary_in_usd employee_residence  remote_ratio  \\\n",
       "0   70000             EUR          79833                 DE             0   \n",
       "1  260000             USD         260000                 JP             0   \n",
       "\n",
       "   ... company_location_3Char comp_size               Experience  Emply_Type  \\\n",
       "0  ...                    DEU         L  Mid-level Intermediate   Full-time    \n",
       "1  ...                    JPN         S     Senior-level Expert   Full-time    \n",
       "\n",
       "  Country_Company Country_Emply                Company_size   Category  \\\n",
       "0         Germany       Germany  Large_Greater_than_250_Emp  Scientist   \n",
       "1           Japan         Japan      Small_Less_than_50_Emp  Scientist   \n",
       "\n",
       "  Remote_Work Machine_learning  \n",
       "0       0-20%           Not ML  \n",
       "1       0-20%  ML Professional  \n",
       "\n",
       "[2 rows x 21 columns]"
      ]
     },
     "execution_count": 3,
     "metadata": {},
     "output_type": "execute_result"
    }
   ],
   "source": [
    "# Import data file\n",
    "salary_data = os.path.join('.','data', 'DS_salary.csv')            \n",
    "\n",
    "# Opens the CVS file and read it in as a panda dataframe then print the head.\n",
    "df_raw = pd.read_csv(salary_data, encoding=\"utf-8\", index_col=False)                   \n",
    "df_raw.head(2)"
   ]
  },
  {
   "attachments": {},
   "cell_type": "markdown",
   "metadata": {},
   "source": [
    "---\n",
    "### Create a data table for the webpage"
   ]
  },
  {
   "cell_type": "code",
   "execution_count": 10,
   "metadata": {},
   "outputs": [],
   "source": [
    "# export data as an HTML table that can be added to the web page.\n",
    "dfs = df_raw\n",
    "file_one = os.path.join('.','data', 'DS_salary.html')\n",
    "dfs.to_html(file_one, classes='table table-stripped', index = False)"
   ]
  },
  {
   "attachments": {},
   "cell_type": "markdown",
   "metadata": {},
   "source": [
    "---\n",
    "### Load the data into a postgres database"
   ]
  },
  {
   "cell_type": "code",
   "execution_count": 7,
   "metadata": {},
   "outputs": [],
   "source": [
    "# Set the connection to the Postgres database created for this project\n",
    "protocol = 'postgresql'\n",
    "username = 'postgres'\n",
    "password = 'jsp'\n",
    "host = 'localhost'\n",
    "port = 5432\n",
    "database_name = 'Data_Science_Salary'\n",
    "rds_connection_string = f'{protocol}://{username}:{password}@{host}:{port}/{database_name}'\n",
    "engine = create_engine(rds_connection_string)"
   ]
  },
  {
   "cell_type": "code",
   "execution_count": 8,
   "metadata": {},
   "outputs": [
    {
     "name": "stderr",
     "output_type": "stream",
     "text": [
      "C:\\Users\\jspinega\\AppData\\Local\\Temp\\ipykernel_37676\\2070310554.py:2: SADeprecationWarning: The Engine.table_names() method is deprecated and will be removed in a future release.  Please refer to Inspector.get_table_names(). (deprecated since: 1.4)\n",
      "  engine.table_names()\n"
     ]
    },
    {
     "data": {
      "text/plain": [
       "['DS_Salary']"
      ]
     },
     "execution_count": 8,
     "metadata": {},
     "output_type": "execute_result"
    }
   ],
   "source": [
    "# Verify that the tables are there to be loaded.\n",
    "engine.table_names()"
   ]
  },
  {
   "cell_type": "code",
   "execution_count": 11,
   "metadata": {},
   "outputs": [
    {
     "data": {
      "text/plain": [
       "607"
      ]
     },
     "execution_count": 11,
     "metadata": {},
     "output_type": "execute_result"
    }
   ],
   "source": [
    "# Load the CMAT codes in the cmatcodes table\n",
    "dfs.to_sql(name='DS_Salary'                     # identify the target table\n",
    "                  , con=engine                        # set the conection\n",
    "                  , if_exists='replace'               # replace existing date in the table\n",
    "                  , index=False)                      # Don't include the index"
   ]
  }
 ],
 "metadata": {
  "kernelspec": {
   "display_name": "base",
   "language": "python",
   "name": "python3"
  },
  "language_info": {
   "codemirror_mode": {
    "name": "ipython",
    "version": 3
   },
   "file_extension": ".py",
   "mimetype": "text/x-python",
   "name": "python",
   "nbconvert_exporter": "python",
   "pygments_lexer": "ipython3",
   "version": "3.9.13 | packaged by conda-forge | (main, May 27 2022, 16:51:29) [MSC v.1929 64 bit (AMD64)]"
  },
  "orig_nbformat": 4,
  "vscode": {
   "interpreter": {
    "hash": "e7f336f9bec1e74624fa1ea8a759f275624ff514e02e1aa8e3e0a6d78d32a22a"
   }
  }
 },
 "nbformat": 4,
 "nbformat_minor": 2
}
