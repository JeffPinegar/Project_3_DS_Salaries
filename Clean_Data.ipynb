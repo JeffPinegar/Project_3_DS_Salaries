{
 "cells": [
  {
   "attachments": {},
   "cell_type": "markdown",
   "metadata": {},
   "source": [
    "# Jeff Pinegar\n",
    "Project 3: ETL \n",
    "Due Jan 30, 2023\n",
    "\n",
    "### Extract and Transform European IPC Sales Data\n",
    "---"
   ]
  },
  {
   "cell_type": "code",
   "execution_count": 1,
   "metadata": {},
   "outputs": [],
   "source": [
    "# Import needed libraries\n",
    "import pandas as pd     # if you get an error message module not found you need to add this to your environment.\n",
    "import os               # this tells your project about the OS of your machine.  This will let you create machine independent notebooks\n",
    "import numpy as np      # loads in the math tools\n",
    "from datetime import datetime"
   ]
  },
  {
   "attachments": {},
   "cell_type": "markdown",
   "metadata": {},
   "source": [
    "---\n",
    "### Extract"
   ]
  },
  {
   "cell_type": "code",
   "execution_count": 2,
   "metadata": {},
   "outputs": [
    {
     "data": {
      "text/html": [
       "<div>\n",
       "<style scoped>\n",
       "    .dataframe tbody tr th:only-of-type {\n",
       "        vertical-align: middle;\n",
       "    }\n",
       "\n",
       "    .dataframe tbody tr th {\n",
       "        vertical-align: top;\n",
       "    }\n",
       "\n",
       "    .dataframe thead th {\n",
       "        text-align: right;\n",
       "    }\n",
       "</style>\n",
       "<table border=\"1\" class=\"dataframe\">\n",
       "  <thead>\n",
       "    <tr style=\"text-align: right;\">\n",
       "      <th></th>\n",
       "      <th>Sales document number</th>\n",
       "      <th>Sales position</th>\n",
       "      <th>Delivery number</th>\n",
       "      <th>Delivery position</th>\n",
       "      <th>Serial number</th>\n",
       "      <th>Material</th>\n",
       "      <th>Product key</th>\n",
       "      <th>Net price</th>\n",
       "      <th>Currency</th>\n",
       "      <th>Country key</th>\n",
       "      <th>Created on</th>\n",
       "      <th>Possibly not the right Serial number</th>\n",
       "    </tr>\n",
       "  </thead>\n",
       "  <tbody>\n",
       "    <tr>\n",
       "      <th>0</th>\n",
       "      <td>1313296024</td>\n",
       "      <td>6000</td>\n",
       "      <td>8220037165</td>\n",
       "      <td>10</td>\n",
       "      <td>2125MW0241</td>\n",
       "      <td>1158241-04</td>\n",
       "      <td>DRBABA</td>\n",
       "      <td>437.14</td>\n",
       "      <td>EUR</td>\n",
       "      <td>IT</td>\n",
       "      <td>1/3/2022</td>\n",
       "      <td>0</td>\n",
       "    </tr>\n",
       "    <tr>\n",
       "      <th>1</th>\n",
       "      <td>1313296024</td>\n",
       "      <td>6000</td>\n",
       "      <td>8220037165</td>\n",
       "      <td>10</td>\n",
       "      <td>2125MW0278</td>\n",
       "      <td>1158241-04</td>\n",
       "      <td>DRBABA</td>\n",
       "      <td>437.14</td>\n",
       "      <td>EUR</td>\n",
       "      <td>IT</td>\n",
       "      <td>1/3/2022</td>\n",
       "      <td>0</td>\n",
       "    </tr>\n",
       "  </tbody>\n",
       "</table>\n",
       "</div>"
      ],
      "text/plain": [
       "   Sales document number  Sales position  Delivery number  Delivery position  \\\n",
       "0             1313296024            6000       8220037165                 10   \n",
       "1             1313296024            6000       8220037165                 10   \n",
       "\n",
       "  Serial number  Material   Product key  Net price  Currency Country key  \\\n",
       "0    2125MW0241  1158241-04      DRBABA      437.14      EUR          IT   \n",
       "1    2125MW0278  1158241-04      DRBABA      437.14      EUR          IT   \n",
       "\n",
       "  Created on  Possibly not the right Serial number  \n",
       "0   1/3/2022                                     0  \n",
       "1   1/3/2022                                     0  "
      ]
     },
     "execution_count": 2,
     "metadata": {},
     "output_type": "execute_result"
    }
   ],
   "source": [
    "# Import data file\n",
    "# My Jupyter notebook is in the current directory \" . \"\n",
    "# There is a sub directory \"Resources\" and the file \"IPC shipped from Germany by serial number 2022 (until 5.12.2022).csv\" is located there.\n",
    "sales_data = os.path.join('.','Resources', 'IPC serial number 2022 (until 18.12.2022).csv')            \n",
    "\n",
    "# Opens the CVS file and read it in as a panda dataframe then print the head.\n",
    "dfs_raw = pd.read_csv(sales_data, encoding=\"utf-8\")                    \n",
    "dfs_raw.head(2)"
   ]
  },
  {
   "attachments": {},
   "cell_type": "markdown",
   "metadata": {},
   "source": [
    "---\n",
    "### Transform"
   ]
  },
  {
   "cell_type": "code",
   "execution_count": 3,
   "metadata": {},
   "outputs": [
    {
     "data": {
      "text/html": [
       "<div>\n",
       "<style scoped>\n",
       "    .dataframe tbody tr th:only-of-type {\n",
       "        vertical-align: middle;\n",
       "    }\n",
       "\n",
       "    .dataframe tbody tr th {\n",
       "        vertical-align: top;\n",
       "    }\n",
       "\n",
       "    .dataframe thead th {\n",
       "        text-align: right;\n",
       "    }\n",
       "</style>\n",
       "<table border=\"1\" class=\"dataframe\">\n",
       "  <thead>\n",
       "    <tr style=\"text-align: right;\">\n",
       "      <th></th>\n",
       "      <th>Sales document number</th>\n",
       "      <th>Sales position</th>\n",
       "      <th>Delivery number</th>\n",
       "      <th>Delivery position</th>\n",
       "      <th>Serial number</th>\n",
       "      <th>Material</th>\n",
       "      <th>Product key</th>\n",
       "      <th>Net price</th>\n",
       "      <th>Currency</th>\n",
       "      <th>Country key</th>\n",
       "      <th>Created on</th>\n",
       "      <th>Possibly not the right Serial number</th>\n",
       "    </tr>\n",
       "  </thead>\n",
       "  <tbody>\n",
       "    <tr>\n",
       "      <th>0</th>\n",
       "      <td>1313296024</td>\n",
       "      <td>6000</td>\n",
       "      <td>8220037165</td>\n",
       "      <td>10</td>\n",
       "      <td>2125MW0241</td>\n",
       "      <td>1158241-04</td>\n",
       "      <td>DRBABA</td>\n",
       "      <td>437.14</td>\n",
       "      <td>EUR</td>\n",
       "      <td>IT</td>\n",
       "      <td>1/3/2022</td>\n",
       "      <td>0</td>\n",
       "    </tr>\n",
       "    <tr>\n",
       "      <th>1</th>\n",
       "      <td>1313296024</td>\n",
       "      <td>6000</td>\n",
       "      <td>8220037165</td>\n",
       "      <td>10</td>\n",
       "      <td>2125MW0278</td>\n",
       "      <td>1158241-04</td>\n",
       "      <td>DRBABA</td>\n",
       "      <td>437.14</td>\n",
       "      <td>EUR</td>\n",
       "      <td>IT</td>\n",
       "      <td>1/3/2022</td>\n",
       "      <td>0</td>\n",
       "    </tr>\n",
       "  </tbody>\n",
       "</table>\n",
       "</div>"
      ],
      "text/plain": [
       "   Sales document number  Sales position  Delivery number  Delivery position  \\\n",
       "0             1313296024            6000       8220037165                 10   \n",
       "1             1313296024            6000       8220037165                 10   \n",
       "\n",
       "  Serial number  Material   Product key  Net price  Currency Country key  \\\n",
       "0    2125MW0241  1158241-04      DRBABA      437.14      EUR          IT   \n",
       "1    2125MW0278  1158241-04      DRBABA      437.14      EUR          IT   \n",
       "\n",
       "  Created on  Possibly not the right Serial number  \n",
       "0   1/3/2022                                     0  \n",
       "1   1/3/2022                                     0  "
      ]
     },
     "execution_count": 3,
     "metadata": {},
     "output_type": "execute_result"
    }
   ],
   "source": [
    "# Drop rows with missing data\n",
    "dfs = dfs_raw.dropna(how='any')\n",
    "\n",
    "# Eliminate HMI's - keeping only IPC\n",
    "      # The 'Product Key for IPC start with the 'DRB'\n",
    "      # REFERENCE: df[df['A'].str.contains(\"hello\", case=False)]\n",
    "\n",
    "dfs = dfs[dfs['Product key'].str.contains(\"DRB\", case = True)]\n",
    "dfs.head(2)"
   ]
  },
  {
   "cell_type": "code",
   "execution_count": 4,
   "metadata": {},
   "outputs": [
    {
     "name": "stdout",
     "output_type": "stream",
     "text": [
      "------------ Data type: ------------ \n",
      " Sales document number                    int64\n",
      "Sales position                           int64\n",
      "Delivery number                          int64\n",
      "Delivery position                        int64\n",
      "Serial number                           object\n",
      "Material                                object\n",
      "Product key                             object\n",
      " Net price                              object\n",
      "Currency                                object\n",
      "Country key                             object\n",
      "Created on                              object\n",
      "Possibly not the right Serial number     int64\n",
      "dtype: object\n",
      "\n",
      " \n",
      " ------------ Shape:  ------------ \n",
      " (13478, 12)\n",
      "\n",
      " \n",
      " ------------Columns: ------------ \n",
      " Index(['Sales document number', 'Sales position', 'Delivery number',\n",
      "       'Delivery position', 'Serial number', 'Material  ', 'Product key',\n",
      "       ' Net price ', 'Currency', 'Country key', 'Created on',\n",
      "       'Possibly not the right Serial number'],\n",
      "      dtype='object') \n",
      "\n",
      "   Sales document number  Sales position  Delivery number  Delivery position  \\\n",
      "0             1313296024            6000       8220037165                 10   \n",
      "1             1313296024            6000       8220037165                 10   \n",
      "\n",
      "  Serial number  Material   Product key  Net price  Currency Country key  \\\n",
      "0    2125MW0241  1158241-04      DRBABA      437.14      EUR          IT   \n",
      "1    2125MW0278  1158241-04      DRBABA      437.14      EUR          IT   \n",
      "\n",
      "  Created on  Possibly not the right Serial number  \n",
      "0   1/3/2022                                     0  \n",
      "1   1/3/2022                                     0  \n"
     ]
    }
   ],
   "source": [
    "# Create a function to check the status of a data frame.  The argument is the name of a dataframe.\n",
    "def df_status(df_to_check):\n",
    "      print(f'------------ Data type: ------------ \\n {df_to_check.dtypes}' )\n",
    "      print(f'\\n \\n ------------ Shape:  ------------ \\n {df_to_check.shape}' )\n",
    "      print(f'\\n \\n ------------Columns: ------------ \\n {df_to_check.columns} \\n')\n",
    "      print (df_to_check.head(2))\n",
    "\n",
    "df_status(dfs)"
   ]
  },
  {
   "cell_type": "code",
   "execution_count": 5,
   "metadata": {},
   "outputs": [
    {
     "data": {
      "text/html": [
       "<div>\n",
       "<style scoped>\n",
       "    .dataframe tbody tr th:only-of-type {\n",
       "        vertical-align: middle;\n",
       "    }\n",
       "\n",
       "    .dataframe tbody tr th {\n",
       "        vertical-align: top;\n",
       "    }\n",
       "\n",
       "    .dataframe thead th {\n",
       "        text-align: right;\n",
       "    }\n",
       "</style>\n",
       "<table border=\"1\" class=\"dataframe\">\n",
       "  <thead>\n",
       "    <tr style=\"text-align: right;\">\n",
       "      <th></th>\n",
       "      <th>Sales document number</th>\n",
       "      <th>Sales position</th>\n",
       "      <th>Delivery number</th>\n",
       "      <th>Delivery position</th>\n",
       "      <th>Serial number</th>\n",
       "      <th>Material</th>\n",
       "      <th>Product key</th>\n",
       "      <th>Net price</th>\n",
       "      <th>Currency</th>\n",
       "      <th>Country key</th>\n",
       "      <th>Created on</th>\n",
       "      <th>Possibly not the right Serial number</th>\n",
       "    </tr>\n",
       "  </thead>\n",
       "  <tbody>\n",
       "    <tr>\n",
       "      <th>0</th>\n",
       "      <td>1313296024</td>\n",
       "      <td>6000</td>\n",
       "      <td>8220037165</td>\n",
       "      <td>10</td>\n",
       "      <td>2125MW0241</td>\n",
       "      <td>1158241-04</td>\n",
       "      <td>DRBABA</td>\n",
       "      <td>437.14</td>\n",
       "      <td>EUR</td>\n",
       "      <td>IT</td>\n",
       "      <td>1/3/2022</td>\n",
       "      <td>0</td>\n",
       "    </tr>\n",
       "    <tr>\n",
       "      <th>1</th>\n",
       "      <td>1313296024</td>\n",
       "      <td>6000</td>\n",
       "      <td>8220037165</td>\n",
       "      <td>10</td>\n",
       "      <td>2125MW0278</td>\n",
       "      <td>1158241-04</td>\n",
       "      <td>DRBABA</td>\n",
       "      <td>437.14</td>\n",
       "      <td>EUR</td>\n",
       "      <td>IT</td>\n",
       "      <td>1/3/2022</td>\n",
       "      <td>0</td>\n",
       "    </tr>\n",
       "  </tbody>\n",
       "</table>\n",
       "</div>"
      ],
      "text/plain": [
       "   Sales document number  Sales position  Delivery number  Delivery position  \\\n",
       "0             1313296024            6000       8220037165                 10   \n",
       "1             1313296024            6000       8220037165                 10   \n",
       "\n",
       "  Serial number  Material   Product key  Net price  Currency Country key  \\\n",
       "0    2125MW0241  1158241-04      DRBABA      437.14      EUR          IT   \n",
       "1    2125MW0278  1158241-04      DRBABA      437.14      EUR          IT   \n",
       "\n",
       "  Created on  Possibly not the right Serial number  \n",
       "0   1/3/2022                                     0  \n",
       "1   1/3/2022                                     0  "
      ]
     },
     "execution_count": 5,
     "metadata": {},
     "output_type": "execute_result"
    }
   ],
   "source": [
    "# remove entries with defective or missing serial numbers\n",
    "# The data set contains a field indicating defective serial numbers 1=defective serial number\n",
    "# REFERENCE:  a = oo_df.loc[oo_df['Medal']=='Gold']\n",
    "\n",
    "dfs = dfs.loc[dfs['Possibly not the right Serial number']==0]\n",
    "dfs.head(2)"
   ]
  },
  {
   "cell_type": "code",
   "execution_count": 6,
   "metadata": {},
   "outputs": [
    {
     "data": {
      "text/html": [
       "<div>\n",
       "<style scoped>\n",
       "    .dataframe tbody tr th:only-of-type {\n",
       "        vertical-align: middle;\n",
       "    }\n",
       "\n",
       "    .dataframe tbody tr th {\n",
       "        vertical-align: top;\n",
       "    }\n",
       "\n",
       "    .dataframe thead th {\n",
       "        text-align: right;\n",
       "    }\n",
       "</style>\n",
       "<table border=\"1\" class=\"dataframe\">\n",
       "  <thead>\n",
       "    <tr style=\"text-align: right;\">\n",
       "      <th></th>\n",
       "      <th>IPC_Serial_No</th>\n",
       "      <th>Sell_Date</th>\n",
       "      <th>Sell_Price</th>\n",
       "      <th>Country</th>\n",
       "      <th>Currency</th>\n",
       "    </tr>\n",
       "  </thead>\n",
       "  <tbody>\n",
       "    <tr>\n",
       "      <th>0</th>\n",
       "      <td>2125MW0241</td>\n",
       "      <td>1/3/2022</td>\n",
       "      <td>437.14</td>\n",
       "      <td>IT</td>\n",
       "      <td>EUR</td>\n",
       "    </tr>\n",
       "    <tr>\n",
       "      <th>1</th>\n",
       "      <td>2125MW0278</td>\n",
       "      <td>1/3/2022</td>\n",
       "      <td>437.14</td>\n",
       "      <td>IT</td>\n",
       "      <td>EUR</td>\n",
       "    </tr>\n",
       "  </tbody>\n",
       "</table>\n",
       "</div>"
      ],
      "text/plain": [
       "  IPC_Serial_No Sell_Date Sell_Price Country Currency\n",
       "0    2125MW0241  1/3/2022     437.14      IT      EUR\n",
       "1    2125MW0278  1/3/2022     437.14      IT      EUR"
      ]
     },
     "execution_count": 6,
     "metadata": {},
     "output_type": "execute_result"
    }
   ],
   "source": [
    "# reduce the data frame to the needed columns and update the column names\n",
    "dfs = dfs[[ 'Serial number'  ,  'Created on'  ,  ' Net price '  ,  'Country key', 'Currency' ]]\n",
    "\n",
    "# Rename the columns\n",
    "dfs = dfs.rename(columns={ 'Serial number' : 'IPC_Serial_No'  ,  'Created on' : 'Sell_Date'  ,  ' Net price ' : 'Sell_Price'  ,  'Country key' : 'Country' })\n",
    "\n",
    "# Remove any duplicate orders\n",
    "dfs = dfs.drop_duplicates(keep='first')\n",
    "\n",
    "dfs.head(2)"
   ]
  },
  {
   "attachments": {},
   "cell_type": "markdown",
   "metadata": {},
   "source": [
    "#### Convert Data Types"
   ]
  },
  {
   "cell_type": "code",
   "execution_count": 7,
   "metadata": {},
   "outputs": [],
   "source": [
    "# Convert \"Sell_Price\" to a float\n",
    "\n",
    "# Remove commas from 'Sell_Price'\n",
    "dfs['Sell_Price'] = dfs['Sell_Price'].str.replace(r',','')\n",
    "\n",
    "# Remove ' -   ' from 'Sell_Price' This is changed to 0\n",
    "dfs['Sell_Price'] = dfs['Sell_Price'].str.replace(r' -   ','0')\n",
    "\n",
    "# Convert column \"Sell_Price\" from a string to a numeric \n",
    "dfs['Sell_Price'] = pd.to_numeric(dfs['Sell_Price']) "
   ]
  },
  {
   "cell_type": "code",
   "execution_count": 8,
   "metadata": {},
   "outputs": [],
   "source": [
    "# Convert sales date to datetime\n",
    "\n",
    "# Define a funtion to change the format\n",
    "def convertdate(date_in_dmyyyy_format):\n",
    "    date_as_string= str(date_in_dmyyyy_format)\n",
    "    newformat = datetime.strptime(date_as_string, \"%m/%d/%Y\").strftime(\"%Y-%m-%d\")\n",
    "    return str(newformat)\n",
    "\n",
    "#reformat the sell_date string to yyyy-mm-dd.\n",
    "dfs['Sell_Date']=dfs['Sell_Date'].apply(convertdate) \n",
    "\n",
    "# Convert the date string to type datetime\n",
    "dfs['Sell_Date']=pd.to_datetime(dfs['Sell_Date'])\n"
   ]
  },
  {
   "cell_type": "code",
   "execution_count": 9,
   "metadata": {},
   "outputs": [
    {
     "data": {
      "text/html": [
       "<div>\n",
       "<style scoped>\n",
       "    .dataframe tbody tr th:only-of-type {\n",
       "        vertical-align: middle;\n",
       "    }\n",
       "\n",
       "    .dataframe tbody tr th {\n",
       "        vertical-align: top;\n",
       "    }\n",
       "\n",
       "    .dataframe thead th {\n",
       "        text-align: right;\n",
       "    }\n",
       "</style>\n",
       "<table border=\"1\" class=\"dataframe\">\n",
       "  <thead>\n",
       "    <tr style=\"text-align: right;\">\n",
       "      <th></th>\n",
       "      <th>IPC_Serial_No</th>\n",
       "      <th>Sell_Date</th>\n",
       "      <th>Sell_Price</th>\n",
       "      <th>Country</th>\n",
       "      <th>Currency</th>\n",
       "    </tr>\n",
       "  </thead>\n",
       "  <tbody>\n",
       "    <tr>\n",
       "      <th>0</th>\n",
       "      <td>2125MW0241</td>\n",
       "      <td>2022-01-03</td>\n",
       "      <td>437.14</td>\n",
       "      <td>IT</td>\n",
       "      <td>EUR</td>\n",
       "    </tr>\n",
       "    <tr>\n",
       "      <th>1</th>\n",
       "      <td>2125MW0278</td>\n",
       "      <td>2022-01-03</td>\n",
       "      <td>437.14</td>\n",
       "      <td>IT</td>\n",
       "      <td>EUR</td>\n",
       "    </tr>\n",
       "  </tbody>\n",
       "</table>\n",
       "</div>"
      ],
      "text/plain": [
       "  IPC_Serial_No  Sell_Date  Sell_Price Country Currency\n",
       "0    2125MW0241 2022-01-03      437.14      IT      EUR\n",
       "1    2125MW0278 2022-01-03      437.14      IT      EUR"
      ]
     },
     "execution_count": 9,
     "metadata": {},
     "output_type": "execute_result"
    }
   ],
   "source": [
    "# verify the data frame befor converting the currency \n",
    "dfs.head(2)"
   ]
  },
  {
   "cell_type": "code",
   "execution_count": 10,
   "metadata": {},
   "outputs": [
    {
     "name": "stdout",
     "output_type": "stream",
     "text": [
      "------------ Data type: ------------ \n",
      " IPC_Serial_No            object\n",
      "Sell_Date        datetime64[ns]\n",
      "Sell_Price              float64\n",
      "Country                  object\n",
      "Currency                 object\n",
      "dtype: object\n",
      "\n",
      " \n",
      " ------------ Shape:  ------------ \n",
      " (12287, 5)\n",
      "\n",
      " \n",
      " ------------Columns: ------------ \n",
      " Index(['IPC_Serial_No', 'Sell_Date', 'Sell_Price', 'Country', 'Currency'], dtype='object') \n",
      "\n",
      "  IPC_Serial_No  Sell_Date  Sell_Price Country Currency\n",
      "0    2125MW0241 2022-01-03      437.14      IT      EUR\n",
      "1    2125MW0278 2022-01-03      437.14      IT      EUR\n"
     ]
    }
   ],
   "source": [
    "df_status(dfs)"
   ]
  },
  {
   "cell_type": "code",
   "execution_count": 11,
   "metadata": {},
   "outputs": [
    {
     "data": {
      "text/plain": [
       "['EUR', 'NOK', 'USD', 'JPY', 'GBP']"
      ]
     },
     "execution_count": 11,
     "metadata": {},
     "output_type": "execute_result"
    }
   ],
   "source": [
    "# Look at which currencies do we have in the data set.  Make sure they are all 3 letter standard currency codes.\n",
    "Currencies = list(dfs['Currency'].unique())\n",
    "Currencies"
   ]
  },
  {
   "cell_type": "code",
   "execution_count": 12,
   "metadata": {},
   "outputs": [],
   "source": [
    "# Convert the sales in local currency to Euros\n",
    "# REFERENCE: https://medium.com/analytics-vidhya/convert-currencies-automatically-with-python-python-in-audit-2-6c574dbae44\n",
    "from forex_python.converter import CurrencyRates\n",
    "from datetime import date\n",
    "c=CurrencyRates()\n",
    "\n",
    "# Save the input data frame\n",
    "df_into_curency_conversion = dfs.copy(deep=True)\n",
    "dfs_Euro = dfs.copy(deep=True)\n",
    "\n",
    "# lambda function lambda x: c.convert( x.Currency, 'EUR', x.Sell_Price, x.Sell_Date ), axis = 1\n",
    "            # x               x represents each row\n",
    "            # EUR             This is the currency that the sale is being converted to\n",
    "            # x.Sell_price    This is the sell price in the local currency\n",
    "            # x.Sell_Date     This is the date of the transaction. The rate on that date is for the conversion.\n",
    "            # axis = 1        I don't fully understand the reason for this but it is needed to run through all the rows.\n",
    "\n",
    "# with 8,400 row this takes about 9 minutes to run.\n",
    "dfs_Euro['Sale_Price_EUR']=dfs_Euro.apply(lambda x: c.convert( x.Currency, 'EUR', x.Sell_Price, x.Sell_Date ), axis = 1)\n",
    "\n",
    "# Presenver the dfs_Euro data frame so that it does not have to be generated again if there is an error later because it take 9 minutes\n",
    "df_out_of_curency_conversion = dfs_Euro.copy(deep=True)\n",
    "dfs = dfs_Euro.copy(deep=True)"
   ]
  },
  {
   "cell_type": "code",
   "execution_count": 15,
   "metadata": {},
   "outputs": [
    {
     "data": {
      "text/html": [
       "<div>\n",
       "<style scoped>\n",
       "    .dataframe tbody tr th:only-of-type {\n",
       "        vertical-align: middle;\n",
       "    }\n",
       "\n",
       "    .dataframe tbody tr th {\n",
       "        vertical-align: top;\n",
       "    }\n",
       "\n",
       "    .dataframe thead th {\n",
       "        text-align: right;\n",
       "    }\n",
       "</style>\n",
       "<table border=\"1\" class=\"dataframe\">\n",
       "  <thead>\n",
       "    <tr style=\"text-align: right;\">\n",
       "      <th></th>\n",
       "      <th>IPC_Serial_No</th>\n",
       "      <th>Sell_Date</th>\n",
       "      <th>Sell_Price</th>\n",
       "      <th>Country</th>\n",
       "      <th>Currency</th>\n",
       "      <th>Sale_Price_EUR</th>\n",
       "    </tr>\n",
       "  </thead>\n",
       "  <tbody>\n",
       "    <tr>\n",
       "      <th>0</th>\n",
       "      <td>2125MW0241</td>\n",
       "      <td>2022-01-03</td>\n",
       "      <td>437.14</td>\n",
       "      <td>IT</td>\n",
       "      <td>EUR</td>\n",
       "      <td>437.14</td>\n",
       "    </tr>\n",
       "    <tr>\n",
       "      <th>1</th>\n",
       "      <td>2125MW0278</td>\n",
       "      <td>2022-01-03</td>\n",
       "      <td>437.14</td>\n",
       "      <td>IT</td>\n",
       "      <td>EUR</td>\n",
       "      <td>437.14</td>\n",
       "    </tr>\n",
       "    <tr>\n",
       "      <th>2</th>\n",
       "      <td>2135MW0201</td>\n",
       "      <td>2022-01-03</td>\n",
       "      <td>437.14</td>\n",
       "      <td>IT</td>\n",
       "      <td>EUR</td>\n",
       "      <td>437.14</td>\n",
       "    </tr>\n",
       "    <tr>\n",
       "      <th>3</th>\n",
       "      <td>2135MW0215</td>\n",
       "      <td>2022-01-03</td>\n",
       "      <td>437.14</td>\n",
       "      <td>IT</td>\n",
       "      <td>EUR</td>\n",
       "      <td>437.14</td>\n",
       "    </tr>\n",
       "    <tr>\n",
       "      <th>4</th>\n",
       "      <td>2135MW0224</td>\n",
       "      <td>2022-01-03</td>\n",
       "      <td>437.14</td>\n",
       "      <td>IT</td>\n",
       "      <td>EUR</td>\n",
       "      <td>437.14</td>\n",
       "    </tr>\n",
       "  </tbody>\n",
       "</table>\n",
       "</div>"
      ],
      "text/plain": [
       "  IPC_Serial_No  Sell_Date  Sell_Price Country Currency  Sale_Price_EUR\n",
       "0    2125MW0241 2022-01-03      437.14      IT      EUR          437.14\n",
       "1    2125MW0278 2022-01-03      437.14      IT      EUR          437.14\n",
       "2    2135MW0201 2022-01-03      437.14      IT      EUR          437.14\n",
       "3    2135MW0215 2022-01-03      437.14      IT      EUR          437.14\n",
       "4    2135MW0224 2022-01-03      437.14      IT      EUR          437.14"
      ]
     },
     "execution_count": 15,
     "metadata": {},
     "output_type": "execute_result"
    }
   ],
   "source": [
    "dfs = dfs_Euro.copy(deep=True)\n",
    "dfs.head()"
   ]
  },
  {
   "attachments": {},
   "cell_type": "markdown",
   "metadata": {},
   "source": [
    "#### Clean up intermediate columns"
   ]
  },
  {
   "cell_type": "code",
   "execution_count": 16,
   "metadata": {},
   "outputs": [
    {
     "data": {
      "text/html": [
       "<div>\n",
       "<style scoped>\n",
       "    .dataframe tbody tr th:only-of-type {\n",
       "        vertical-align: middle;\n",
       "    }\n",
       "\n",
       "    .dataframe tbody tr th {\n",
       "        vertical-align: top;\n",
       "    }\n",
       "\n",
       "    .dataframe thead th {\n",
       "        text-align: right;\n",
       "    }\n",
       "</style>\n",
       "<table border=\"1\" class=\"dataframe\">\n",
       "  <thead>\n",
       "    <tr style=\"text-align: right;\">\n",
       "      <th></th>\n",
       "      <th>IPC_Serial_No</th>\n",
       "      <th>Sell_Date</th>\n",
       "      <th>Country</th>\n",
       "      <th>Sale_Price_EUR</th>\n",
       "    </tr>\n",
       "  </thead>\n",
       "  <tbody>\n",
       "    <tr>\n",
       "      <th>0</th>\n",
       "      <td>2125MW0241</td>\n",
       "      <td>2022-01-03</td>\n",
       "      <td>IT</td>\n",
       "      <td>437.14</td>\n",
       "    </tr>\n",
       "    <tr>\n",
       "      <th>1</th>\n",
       "      <td>2125MW0278</td>\n",
       "      <td>2022-01-03</td>\n",
       "      <td>IT</td>\n",
       "      <td>437.14</td>\n",
       "    </tr>\n",
       "  </tbody>\n",
       "</table>\n",
       "</div>"
      ],
      "text/plain": [
       "  IPC_Serial_No  Sell_Date Country  Sale_Price_EUR\n",
       "0    2125MW0241 2022-01-03      IT          437.14\n",
       "1    2125MW0278 2022-01-03      IT          437.14"
      ]
     },
     "execution_count": 16,
     "metadata": {},
     "output_type": "execute_result"
    }
   ],
   "source": [
    "# Remove Currency column now that everything is in Euros\n",
    "del dfs['Currency']\n",
    "\n",
    "# Remove 'Sell Price' column now that everything is in Euros\n",
    "del dfs['Sell_Price']\n",
    "\n",
    "# reset the index\n",
    "dfs.reset_index(inplace=True, drop=True)\n",
    "\n",
    "dfs.head(2)"
   ]
  },
  {
   "cell_type": "code",
   "execution_count": 17,
   "metadata": {},
   "outputs": [
    {
     "name": "stdout",
     "output_type": "stream",
     "text": [
      "------------ Data type: ------------ \n",
      " IPC_Serial_No             object\n",
      "Sell_Date         datetime64[ns]\n",
      "Country                   object\n",
      "Sale_Price_EUR           float64\n",
      "dtype: object\n",
      "\n",
      " \n",
      " ------------ Shape:  ------------ \n",
      " (12287, 4)\n",
      "\n",
      " \n",
      " ------------Columns: ------------ \n",
      " Index(['IPC_Serial_No', 'Sell_Date', 'Country', 'Sale_Price_EUR'], dtype='object') \n",
      "\n",
      "  IPC_Serial_No  Sell_Date Country  Sale_Price_EUR\n",
      "0    2125MW0241 2022-01-03      IT          437.14\n",
      "1    2125MW0278 2022-01-03      IT          437.14\n"
     ]
    }
   ],
   "source": [
    "# save the clean data frame\n",
    "dfs_clean = dfs\n",
    "\n",
    "#examin the final dataframe\n",
    "df_status(dfs_clean) "
   ]
  },
  {
   "cell_type": "code",
   "execution_count": 18,
   "metadata": {},
   "outputs": [
    {
     "data": {
      "text/html": [
       "<div>\n",
       "<style scoped>\n",
       "    .dataframe tbody tr th:only-of-type {\n",
       "        vertical-align: middle;\n",
       "    }\n",
       "\n",
       "    .dataframe tbody tr th {\n",
       "        vertical-align: top;\n",
       "    }\n",
       "\n",
       "    .dataframe thead th {\n",
       "        text-align: right;\n",
       "    }\n",
       "</style>\n",
       "<table border=\"1\" class=\"dataframe\">\n",
       "  <thead>\n",
       "    <tr style=\"text-align: right;\">\n",
       "      <th></th>\n",
       "      <th>IPC_Serial_No</th>\n",
       "      <th>Sell_Date</th>\n",
       "      <th>Country</th>\n",
       "      <th>Sale_Price_EUR</th>\n",
       "    </tr>\n",
       "  </thead>\n",
       "  <tbody>\n",
       "    <tr>\n",
       "      <th>0</th>\n",
       "      <td>2125MW0241</td>\n",
       "      <td>2022-01-03</td>\n",
       "      <td>IT</td>\n",
       "      <td>437.14</td>\n",
       "    </tr>\n",
       "    <tr>\n",
       "      <th>1</th>\n",
       "      <td>2125MW0278</td>\n",
       "      <td>2022-01-03</td>\n",
       "      <td>IT</td>\n",
       "      <td>437.14</td>\n",
       "    </tr>\n",
       "  </tbody>\n",
       "</table>\n",
       "</div>"
      ],
      "text/plain": [
       "  IPC_Serial_No  Sell_Date Country  Sale_Price_EUR\n",
       "0    2125MW0241 2022-01-03      IT          437.14\n",
       "1    2125MW0278 2022-01-03      IT          437.14"
      ]
     },
     "execution_count": 18,
     "metadata": {},
     "output_type": "execute_result"
    }
   ],
   "source": [
    "dfs_clean.head(2)"
   ]
  },
  {
   "attachments": {},
   "cell_type": "markdown",
   "metadata": {},
   "source": [
    "#### Save Data as CSV file"
   ]
  },
  {
   "cell_type": "code",
   "execution_count": 19,
   "metadata": {},
   "outputs": [],
   "source": [
    "# Export as CSV file\n",
    "file_one = os.path.join('.','Resources', 'Sales_Data_Clean.csv')        # Set the file name an path\n",
    "dfs_clean.to_csv(file_one, index=True, header=True)                     # Writes the CSV file"
   ]
  },
  {
   "attachments": {},
   "cell_type": "markdown",
   "metadata": {},
   "source": [
    "## \n",
    "---\n",
    "## To Load Run:   Load_Protgres_database.ipynb\n",
    "\n",
    "When loading sales data using dfs_clean.to_sql set index=True  and index_label=\"ID\" to fill the Primary key of the sales table\n",
    "\n",
    "---\n"
   ]
  }
 ],
 "metadata": {
  "kernelspec": {
   "display_name": "base",
   "language": "python",
   "name": "python3"
  },
  "language_info": {
   "codemirror_mode": {
    "name": "ipython",
    "version": 3
   },
   "file_extension": ".py",
   "mimetype": "text/x-python",
   "name": "python",
   "nbconvert_exporter": "python",
   "pygments_lexer": "ipython3",
   "version": "3.9.13 | packaged by conda-forge | (main, May 27 2022, 16:51:29) [MSC v.1929 64 bit (AMD64)]"
  },
  "orig_nbformat": 4,
  "vscode": {
   "interpreter": {
    "hash": "e7f336f9bec1e74624fa1ea8a759f275624ff514e02e1aa8e3e0a6d78d32a22a"
   }
  }
 },
 "nbformat": 4,
 "nbformat_minor": 2
}
