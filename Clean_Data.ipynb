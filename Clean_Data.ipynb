{
 "cells": [
  {
   "attachments": {},
   "cell_type": "markdown",
   "metadata": {},
   "source": [
    "# Jeff Pinegar\n",
    "Project 3: ETL \n",
    "Due Jan 30, 2023\n",
    "\n",
    "### Extract and Transform Data Scienc Salary\n",
    "---"
   ]
  },
  {
   "cell_type": "code",
   "execution_count": 1,
   "metadata": {},
   "outputs": [],
   "source": [
    "# Import needed libraries\n",
    "import pandas as pd     # if you get an error message module not found you need to add this to your environment.\n",
    "import os               # this tells your project about the OS of your machine.  This will let you create machine independent notebooks\n",
    "import numpy as np      # loads in the math tools\n",
    "from datetime import datetime"
   ]
  },
  {
   "attachments": {},
   "cell_type": "markdown",
   "metadata": {},
   "source": [
    "---\n",
    "### Extract"
   ]
  },
  {
   "cell_type": "code",
   "execution_count": 3,
   "metadata": {},
   "outputs": [
    {
     "data": {
      "text/html": [
       "<div>\n",
       "<style scoped>\n",
       "    .dataframe tbody tr th:only-of-type {\n",
       "        vertical-align: middle;\n",
       "    }\n",
       "\n",
       "    .dataframe tbody tr th {\n",
       "        vertical-align: top;\n",
       "    }\n",
       "\n",
       "    .dataframe thead th {\n",
       "        text-align: right;\n",
       "    }\n",
       "</style>\n",
       "<table border=\"1\" class=\"dataframe\">\n",
       "  <thead>\n",
       "    <tr style=\"text-align: right;\">\n",
       "      <th></th>\n",
       "      <th>work_year</th>\n",
       "      <th>experience_level</th>\n",
       "      <th>employment_type</th>\n",
       "      <th>job_title</th>\n",
       "      <th>salary</th>\n",
       "      <th>salary_currency</th>\n",
       "      <th>salary_in_usd</th>\n",
       "      <th>employee_residence</th>\n",
       "      <th>remote_ratio</th>\n",
       "      <th>company_location</th>\n",
       "      <th>company_location_3Char</th>\n",
       "      <th>comp_size</th>\n",
       "      <th>Experience</th>\n",
       "      <th>Emply_Type</th>\n",
       "      <th>Country_Company</th>\n",
       "      <th>Country_Emply</th>\n",
       "      <th>Company_size</th>\n",
       "      <th>Category</th>\n",
       "      <th>Remote_Work</th>\n",
       "      <th>Machine_learning</th>\n",
       "    </tr>\n",
       "    <tr>\n",
       "      <th>id</th>\n",
       "      <th></th>\n",
       "      <th></th>\n",
       "      <th></th>\n",
       "      <th></th>\n",
       "      <th></th>\n",
       "      <th></th>\n",
       "      <th></th>\n",
       "      <th></th>\n",
       "      <th></th>\n",
       "      <th></th>\n",
       "      <th></th>\n",
       "      <th></th>\n",
       "      <th></th>\n",
       "      <th></th>\n",
       "      <th></th>\n",
       "      <th></th>\n",
       "      <th></th>\n",
       "      <th></th>\n",
       "      <th></th>\n",
       "      <th></th>\n",
       "    </tr>\n",
       "  </thead>\n",
       "  <tbody>\n",
       "    <tr>\n",
       "      <th>0</th>\n",
       "      <td>2020</td>\n",
       "      <td>MI</td>\n",
       "      <td>FT</td>\n",
       "      <td>Data Scientist</td>\n",
       "      <td>70000</td>\n",
       "      <td>EUR</td>\n",
       "      <td>79833</td>\n",
       "      <td>DE</td>\n",
       "      <td>0</td>\n",
       "      <td>DE</td>\n",
       "      <td>DEU</td>\n",
       "      <td>L</td>\n",
       "      <td>Mid-level Intermediate</td>\n",
       "      <td>Full-time</td>\n",
       "      <td>Germany</td>\n",
       "      <td>Germany</td>\n",
       "      <td>Large_Greater_than_250_Emp</td>\n",
       "      <td>Scientist</td>\n",
       "      <td>0-20%</td>\n",
       "      <td>Not ML</td>\n",
       "    </tr>\n",
       "    <tr>\n",
       "      <th>1</th>\n",
       "      <td>2020</td>\n",
       "      <td>SE</td>\n",
       "      <td>FT</td>\n",
       "      <td>Machine Learning Scientist</td>\n",
       "      <td>260000</td>\n",
       "      <td>USD</td>\n",
       "      <td>260000</td>\n",
       "      <td>JP</td>\n",
       "      <td>0</td>\n",
       "      <td>JP</td>\n",
       "      <td>JPN</td>\n",
       "      <td>S</td>\n",
       "      <td>Senior-level Expert</td>\n",
       "      <td>Full-time</td>\n",
       "      <td>Japan</td>\n",
       "      <td>Japan</td>\n",
       "      <td>Small_Less_than_50_Emp</td>\n",
       "      <td>Scientist</td>\n",
       "      <td>0-20%</td>\n",
       "      <td>ML Professional</td>\n",
       "    </tr>\n",
       "  </tbody>\n",
       "</table>\n",
       "</div>"
      ],
      "text/plain": [
       "    work_year experience_level employment_type                   job_title  \\\n",
       "id                                                                           \n",
       "0        2020               MI              FT              Data Scientist   \n",
       "1        2020               SE              FT  Machine Learning Scientist   \n",
       "\n",
       "    salary salary_currency  salary_in_usd employee_residence  remote_ratio  \\\n",
       "id                                                                           \n",
       "0    70000             EUR          79833                 DE             0   \n",
       "1   260000             USD         260000                 JP             0   \n",
       "\n",
       "   company_location company_location_3Char comp_size               Experience  \\\n",
       "id                                                                              \n",
       "0                DE                    DEU         L  Mid-level Intermediate    \n",
       "1                JP                    JPN         S     Senior-level Expert    \n",
       "\n",
       "    Emply_Type Country_Company Country_Emply                Company_size  \\\n",
       "id                                                                         \n",
       "0   Full-time          Germany       Germany  Large_Greater_than_250_Emp   \n",
       "1   Full-time            Japan         Japan      Small_Less_than_50_Emp   \n",
       "\n",
       "     Category Remote_Work Machine_learning  \n",
       "id                                          \n",
       "0   Scientist       0-20%           Not ML  \n",
       "1   Scientist       0-20%  ML Professional  "
      ]
     },
     "execution_count": 3,
     "metadata": {},
     "output_type": "execute_result"
    }
   ],
   "source": [
    "# Import data file\n",
    "# My Jupyter notebook is in the current directory \" . \"\n",
    "# There is a sub directory \"Resources\" and the file \"IPC shipped from Germany by serial number 2022 (until 5.12.2022).csv\" is located there.\n",
    "salary_data = os.path.join('.','data', 'DS_salary.csv')            \n",
    "\n",
    "# Opens the CVS file and read it in as a panda dataframe then print the head.\n",
    "df_raw = pd.read_csv(salary_data, index_col=0, encoding=\"utf-8\")                    \n",
    "df_raw.head(2)"
   ]
  },
  {
   "attachments": {},
   "cell_type": "markdown",
   "metadata": {},
   "source": [
    "# Create Data for website"
   ]
  },
  {
   "cell_type": "code",
   "execution_count": 4,
   "metadata": {},
   "outputs": [
    {
     "ename": "NameError",
     "evalue": "name 'df3' is not defined",
     "output_type": "error",
     "traceback": [
      "\u001b[1;31m---------------------------------------------------------------------------\u001b[0m",
      "\u001b[1;31mNameError\u001b[0m                                 Traceback (most recent call last)",
      "Cell \u001b[1;32mIn[4], line 3\u001b[0m\n\u001b[0;32m      1\u001b[0m \u001b[39m# export data as an HTML table that can be added to the web page.\u001b[39;00m\n\u001b[0;32m      2\u001b[0m file_one \u001b[39m=\u001b[39m os\u001b[39m.\u001b[39mpath\u001b[39m.\u001b[39mjoin(\u001b[39m'\u001b[39m\u001b[39m.\u001b[39m\u001b[39m'\u001b[39m,\u001b[39m'\u001b[39m\u001b[39mdata\u001b[39m\u001b[39m'\u001b[39m, \u001b[39m'\u001b[39m\u001b[39mDS_salary.html\u001b[39m\u001b[39m'\u001b[39m)\n\u001b[1;32m----> 3\u001b[0m df3\u001b[39m.\u001b[39mto_html(file_one, classes\u001b[39m=\u001b[39m\u001b[39m'\u001b[39m\u001b[39mtable table-stripped\u001b[39m\u001b[39m'\u001b[39m)\n",
      "\u001b[1;31mNameError\u001b[0m: name 'df3' is not defined"
     ]
    }
   ],
   "source": [
    "# export data as an HTML table that can be added to the web page.\n",
    "dfs = df_raw\n",
    "file_one = os.path.join('.','data', 'DS_salary.html')\n",
    "dfs.to_html(file_one, classes='table table-stripped')"
   ]
  },
  {
   "cell_type": "code",
   "execution_count": null,
   "metadata": {},
   "outputs": [],
   "source": []
  }
 ],
 "metadata": {
  "kernelspec": {
   "display_name": "base",
   "language": "python",
   "name": "python3"
  },
  "language_info": {
   "codemirror_mode": {
    "name": "ipython",
    "version": 3
   },
   "file_extension": ".py",
   "mimetype": "text/x-python",
   "name": "python",
   "nbconvert_exporter": "python",
   "pygments_lexer": "ipython3",
   "version": "3.9.13"
  },
  "orig_nbformat": 4,
  "vscode": {
   "interpreter": {
    "hash": "e7f336f9bec1e74624fa1ea8a759f275624ff514e02e1aa8e3e0a6d78d32a22a"
   }
  }
 },
 "nbformat": 4,
 "nbformat_minor": 2
}
